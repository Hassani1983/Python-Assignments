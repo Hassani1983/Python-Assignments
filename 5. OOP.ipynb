{
 "cells": [
  {
   "cell_type": "raw",
   "id": "154548db",
   "metadata": {},
   "source": [
    "Everything in python is class and object. Let's verify that. Run the following code:"
   ]
  },
  {
   "cell_type": "code",
   "execution_count": 1,
   "id": "c8ef55a5",
   "metadata": {},
   "outputs": [
    {
     "name": "stdout",
     "output_type": "stream",
     "text": [
      "<class 'int'> <class 'str'>\n",
      "<class 'type'>\n",
      "<class 'type'>\n",
      "<class 'type'>\n",
      "<class 'type'>\n",
      "<class 'type'>\n",
      "<class 'builtin_function_or_method'>\n",
      "<class 'function'>\n",
      "<class 'type'>\n"
     ]
    }
   ],
   "source": [
    "a=5\n",
    "b=\"some string\" \n",
    "print(type(a), type(b))\n",
    "\n",
    "def someFunction(): \n",
    "    return\n",
    "\n",
    "class Someclass:\n",
    "    pass\n",
    "\n",
    "someList = [int, str, tuple, dict, list, print, someFunction, Someclass]\n",
    "for item in someList:\n",
    "    print(type(item))"
   ]
  },
  {
   "cell_type": "raw",
   "id": "ede500c3",
   "metadata": {},
   "source": [
    "Compare the result of step a and step b:"
   ]
  },
  {
   "cell_type": "code",
   "execution_count": 2,
   "id": "47a07190",
   "metadata": {},
   "outputs": [
    {
     "name": "stdout",
     "output_type": "stream",
     "text": [
      "\n",
      "<class 'int'>\n",
      "<class 'str'>\n",
      "<class 'tuple'>\n",
      "<class 'dict'>\n",
      "<class 'list'>\n",
      "<class 'NoneType'>\n",
      "<class 'NoneType'>\n",
      "<class '__main__.Someclass'>\n"
     ]
    }
   ],
   "source": [
    "# Let's create an object of each in the list\n",
    "anotherList = [int(), str(), tuple(), dict(), list(), print(), someFunction(), Someclass()]\n",
    "for item in anotherList:\n",
    "    print(type(item))"
   ]
  },
  {
   "cell_type": "raw",
   "id": "e7c3c59a",
   "metadata": {},
   "source": [
    "Create two classes Pet and Dog \n",
    "    1. Requirements for Pet class\n",
    "    Three class attributes pet_population , pet_instance and current_year\n",
    "    Init constructor __init__(self,name,category,age), name is name of pet,category could be dog,cat,bird etc. and age is age of pet\n",
    "    An instance method hellofrompet that prints hello from petname\n",
    "    Create a class method timepassedby which takes years as argument should automatically increase the age of all the pet object as soon as the method is applied\n",
    "pet_population should show the number of pets created and pet_instance is the list of pet object \n",
    "\n",
    "    2. Requirements for Dog class \n",
    "    Dog class should inherit Pet class attributes and methods. Apart from that the init constructor takes addition \"breed\" argument \n",
    "    Define the instance method barks which displays the breed does woof woof."
   ]
  },
  {
   "cell_type": "code",
   "execution_count": 3,
   "id": "6a60c504",
   "metadata": {},
   "outputs": [],
   "source": [
    "class Pet():\n",
    "    pet_population = 0\n",
    "    pet_instance = []\n",
    "    current_year = 2023\n",
    "    \n",
    "    def __init__(self, name, category, age):\n",
    "        self.name = name\n",
    "        self.category = category\n",
    "        self.age = age\n",
    "        self.pet_population += 1\n",
    "        self.pet_instance.append(self) \n",
    "        \n",
    "    def hellofrompet(self):\n",
    "        print(\"Hello from \", self.name)\n",
    "        \n",
    "    @classmethod\n",
    "    def timepassedby(cls, year):\n",
    "        for pet in cls.pet_instance:\n",
    "            pet.age += year\n",
    "        \n",
    "        \n",
    "class Dog(Pet):\n",
    "\n",
    "    def __init__(self, name, category, age, breed):\n",
    "        super().__init__(name, \"Dog\", age)\n",
    "        self.breed = breed\n",
    "    \n",
    "    def barks(self):\n",
    "        print(f\"{self.breed} does woof woof\")\n",
    "        "
   ]
  },
  {
   "cell_type": "code",
   "execution_count": 4,
   "id": "f05e6f24",
   "metadata": {},
   "outputs": [
    {
     "name": "stdout",
     "output_type": "stream",
     "text": [
      "0\n",
      "0\n",
      "Micky\n",
      "Saphie\n",
      "6\n",
      "7\n",
      "German Shepherd does woof woof\n"
     ]
    },
    {
     "ename": "AttributeError",
     "evalue": "'Pet' object has no attribute 'barks'",
     "output_type": "error",
     "traceback": [
      "\u001b[1;31m---------------------------------------------------------------------------\u001b[0m",
      "\u001b[1;31mAttributeError\u001b[0m                            Traceback (most recent call last)",
      "\u001b[1;32m~\\AppData\\Local\\Temp\\ipykernel_5464\\2963691151.py\u001b[0m in \u001b[0;36m<module>\u001b[1;34m\u001b[0m\n\u001b[0;32m     14\u001b[0m \u001b[0mprint\u001b[0m\u001b[1;33m(\u001b[0m\u001b[0minstance2\u001b[0m\u001b[1;33m.\u001b[0m\u001b[0mage\u001b[0m\u001b[1;33m)\u001b[0m \u001b[1;31m#should result to 7\u001b[0m\u001b[1;33m\u001b[0m\u001b[1;33m\u001b[0m\u001b[0m\n\u001b[0;32m     15\u001b[0m \u001b[0minstance2\u001b[0m\u001b[1;33m.\u001b[0m\u001b[0mbarks\u001b[0m\u001b[1;33m(\u001b[0m\u001b[1;33m)\u001b[0m \u001b[1;31m# should display \"German Shephard does 'woof woof'\"\u001b[0m\u001b[1;33m\u001b[0m\u001b[1;33m\u001b[0m\u001b[0m\n\u001b[1;32m---> 16\u001b[1;33m \u001b[0minstance1\u001b[0m\u001b[1;33m.\u001b[0m\u001b[0mbarks\u001b[0m\u001b[1;33m(\u001b[0m\u001b[1;33m)\u001b[0m \u001b[1;31m#should throw an error\u001b[0m\u001b[1;33m\u001b[0m\u001b[1;33m\u001b[0m\u001b[0m\n\u001b[0m",
      "\u001b[1;31mAttributeError\u001b[0m: 'Pet' object has no attribute 'barks'"
     ]
    }
   ],
   "source": [
    "# create the Pet instance \n",
    "instance1=Pet(\"Micky\",\"Cat\",1)\n",
    "# create Dog instance\n",
    "instance2=Dog(\"Saphie\", \"Dog\", 2, \"German Shepherd\")\n",
    "# running Pet.pet_population and Dog.pet_population should return 2\n",
    "print(Pet.pet_population) \n",
    "print(Dog.pet_population)\n",
    "# Display all the names of the pets, should return Mickey and Saphie \n",
    "for item in Pet.pet_instance:\n",
    "    print(item.name)\n",
    "# Pet.timepassedby(5) should increase every pet ages by 5 years\n",
    "Pet.timepassedby(5)\n",
    "print(instance1.age) # should result to 6\n",
    "print(instance2.age) #should result to 7\n",
    "instance2.barks() # should display \"German Shephard does 'woof woof'\"\n",
    "instance1.barks() #should throw an error"
   ]
  }
 ],
 "metadata": {
  "kernelspec": {
   "display_name": "Python 3 (ipykernel)",
   "language": "python",
   "name": "python3"
  },
  "language_info": {
   "codemirror_mode": {
    "name": "ipython",
    "version": 3
   },
   "file_extension": ".py",
   "mimetype": "text/x-python",
   "name": "python",
   "nbconvert_exporter": "python",
   "pygments_lexer": "ipython3",
   "version": "3.9.13"
  }
 },
 "nbformat": 4,
 "nbformat_minor": 5
}
