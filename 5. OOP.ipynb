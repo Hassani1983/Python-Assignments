{
 "cells": [
  {
   "cell_type": "raw",
   "id": "3b359746",
   "metadata": {},
   "source": [
    "Everything in python is class and object. Let's verify that. Run the following code:"
   ]
  },
  {
   "cell_type": "code",
   "execution_count": 1,
   "id": "5975a2b1",
   "metadata": {},
   "outputs": [
    {
     "name": "stdout",
     "output_type": "stream",
     "text": [
      "<class 'int'> <class 'str'>\n",
      "<class 'type'>\n",
      "<class 'type'>\n",
      "<class 'type'>\n",
      "<class 'type'>\n",
      "<class 'type'>\n",
      "<class 'builtin_function_or_method'>\n",
      "<class 'function'>\n",
      "<class 'type'>\n"
     ]
    }
   ],
   "source": [
    "a=5\n",
    "b=\"some string\" \n",
    "print(type(a), type(b))\n",
    "\n",
    "def someFunction(): \n",
    "    return\n",
    "\n",
    "class Someclass:\n",
    "    pass\n",
    "\n",
    "someList = [int, str, tuple, dict, list, print, someFunction, Someclass]\n",
    "for item in someList:\n",
    "    print(type(item))"
   ]
  },
  {
   "cell_type": "raw",
   "id": "c947d123",
   "metadata": {},
   "source": [
    "Compare the result of step a and step b:"
   ]
  },
  {
   "cell_type": "code",
   "execution_count": 2,
   "id": "c47b6b89",
   "metadata": {},
   "outputs": [
    {
     "name": "stdout",
     "output_type": "stream",
     "text": [
      "\n",
      "<class 'int'>\n",
      "<class 'str'>\n",
      "<class 'tuple'>\n",
      "<class 'dict'>\n",
      "<class 'list'>\n",
      "<class 'NoneType'>\n",
      "<class 'NoneType'>\n",
      "<class '__main__.Someclass'>\n"
     ]
    }
   ],
   "source": [
    "# Let's create an object of each in the list\n",
    "anotherList = [int(), str(), tuple(), dict(), list(), print(), someFunction(), Someclass()]\n",
    "for item in anotherList:\n",
    "    print(type(item))"
   ]
  },
  {
   "cell_type": "raw",
   "id": "f3d1044e",
   "metadata": {},
   "source": [
    "Create two classes Pet and Dog \n",
    "    1. Requirements for Pet class\n",
    "    Three class attributes pet_population , pet_instance and current_year\n",
    "    Init constructor __init__(self,name,category,age), name is name of pet,category could be dog,cat,bird etc. and age is age of pet\n",
    "    An instance method hellofrompet that prints hello from petname\n",
    "    Create a class method timepassedby which takes years as argument should automatically increase the age of all the pet object as soon as the method is applied\n",
    "pet_population should show the number of pets created and pet_instance is the list of pet object \n",
    "\n",
    "    2. Requirements for Dog class \n",
    "    Dog class should inherit Pet class attributes and methods. Apart from that the init constructor takes addition \"breed\" argument \n",
    "    Define the instance method barks which displays the breed does woof woof."
   ]
  },
  {
   "cell_type": "code",
   "execution_count": 3,
   "id": "75d61dd8",
   "metadata": {},
   "outputs": [],
   "source": [
    "class Pet():\n",
    "    pet_population = 0\n",
    "    pet_instance = []\n",
    "    current_year = 2023\n",
    "    \n",
    "    def __init__(self, name, category, age):\n",
    "        self.name = name\n",
    "        self.category = category\n",
    "        self.age = age\n",
    "        self.pet_population += 1\n",
    "        self.pet_instance.append(self) \n",
    "        \n",
    "    def hellofrompet(self):\n",
    "        print(\"Hello from \", self.name)\n",
    "        \n",
    "    @classmethod\n",
    "    def timepassedby(cls, year):\n",
    "        for pet in cls.pet_instance:\n",
    "            pet.age += year\n",
    "        \n",
    "        \n",
    "class Dog(Pet):\n",
    "\n",
    "    def __init__(self, name, age, breed):\n",
    "        super().__init__(name, \"Dog\", age)\n",
    "        self.breed = breed\n",
    "    \n",
    "    def barks(self):\n",
    "        print(f\"{self.breed} does woof woof\")\n",
    "        "
   ]
  },
  {
   "cell_type": "code",
   "execution_count": 4,
   "id": "6c8a8271",
   "metadata": {},
   "outputs": [
    {
     "name": "stdout",
     "output_type": "stream",
     "text": [
      "Hello from  Tommy\n",
      "7\n",
      "5\n",
      "4\n",
      "Labrador does woof woof\n",
      "German Shepherd does woof woof\n",
      "Shepherd does woof woof\n"
     ]
    }
   ],
   "source": [
    "pet1 = Pet(\"Tommy\", \"dog\", 5)\n",
    "pet2 = Pet(\"Fluffy\", \"cat\", 3)\n",
    "pet3 = Pet(\"Polly\", \"bird\", 2)\n",
    "\n",
    "pet1.hellofrompet()  # prints \"Hello from Tommy\"\n",
    "\n",
    "Pet.timepassedby(2)\n",
    "print(pet1.age)  \n",
    "print(pet2.age)  \n",
    "print(pet3.age)  \n",
    "\n",
    "# create some dogs and call the barks method\n",
    "d1 = Dog(\"Buddy\", 3, \"Labrador\")\n",
    "d2 = Dog(\"Rocky\", 2, \"German Shepherd\")\n",
    "d3 = Dog(\"Saphie\", 1, \"Shepherd\")\n",
    "d1.barks()  \n",
    "d2.barks()  \n",
    "d3.barks()  "
   ]
  }
 ],
 "metadata": {
  "kernelspec": {
   "display_name": "Python 3 (ipykernel)",
   "language": "python",
   "name": "python3"
  },
  "language_info": {
   "codemirror_mode": {
    "name": "ipython",
    "version": 3
   },
   "file_extension": ".py",
   "mimetype": "text/x-python",
   "name": "python",
   "nbconvert_exporter": "python",
   "pygments_lexer": "ipython3",
   "version": "3.9.13"
  }
 },
 "nbformat": 4,
 "nbformat_minor": 5
}
