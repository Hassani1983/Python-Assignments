{
 "cells": [
  {
   "cell_type": "raw",
   "id": "5c77aacf",
   "metadata": {},
   "source": [
    "Suppose we have rooms we have a dataset that shows the number of bedrooms and the selling price for 20 houses in a particular neighborhood\n",
    "Bedrooms = [1,1,1,2,2,2,2,3,3,3,3,3,3,3,4,4,4,5,5,6]\n",
    "Prices = [120,133,139,185,148,160,192,205,244,213,236,280,275,273,312,311,304,415,396,488]"
   ]
  },
  {
   "cell_type": "code",
   "execution_count": 1,
   "id": "54e6df04",
   "metadata": {},
   "outputs": [],
   "source": [
    "import random\n",
    "import numpy as np\n",
    "import pandas as pd\n",
    "from scipy.stats import t\n",
    "import math\n",
    "import matplotlib.pyplot as plt\n",
    "import seaborn as sns"
   ]
  },
  {
   "cell_type": "code",
   "execution_count": 2,
   "id": "36ecb7ea",
   "metadata": {},
   "outputs": [],
   "source": [
    "Bedrooms = [1,1,1,2,2,2,2,3,3,3,3,3,3,3,4,4,4,5,5,6]\n",
    "Prices = [120,133,139,185,148,160,192,205,244,213,236,280,275,273,312,311,304,415,396,488]"
   ]
  },
  {
   "cell_type": "markdown",
   "id": "af1cd2bb",
   "metadata": {},
   "source": [
    "* Extract a random sample of size 10"
   ]
  },
  {
   "cell_type": "code",
   "execution_count": 4,
   "id": "dc6233a0",
   "metadata": {
    "collapsed": true
   },
   "outputs": [
    {
     "data": {
      "text/html": [
       "<div>\n",
       "<style scoped>\n",
       "    .dataframe tbody tr th:only-of-type {\n",
       "        vertical-align: middle;\n",
       "    }\n",
       "\n",
       "    .dataframe tbody tr th {\n",
       "        vertical-align: top;\n",
       "    }\n",
       "\n",
       "    .dataframe thead th {\n",
       "        text-align: right;\n",
       "    }\n",
       "</style>\n",
       "<table border=\"1\" class=\"dataframe\">\n",
       "  <thead>\n",
       "    <tr style=\"text-align: right;\">\n",
       "      <th></th>\n",
       "      <th>Bedrooms</th>\n",
       "      <th>Prices</th>\n",
       "    </tr>\n",
       "  </thead>\n",
       "  <tbody>\n",
       "    <tr>\n",
       "      <th>0</th>\n",
       "      <td>1</td>\n",
       "      <td>120</td>\n",
       "    </tr>\n",
       "    <tr>\n",
       "      <th>1</th>\n",
       "      <td>1</td>\n",
       "      <td>133</td>\n",
       "    </tr>\n",
       "    <tr>\n",
       "      <th>2</th>\n",
       "      <td>1</td>\n",
       "      <td>139</td>\n",
       "    </tr>\n",
       "    <tr>\n",
       "      <th>3</th>\n",
       "      <td>2</td>\n",
       "      <td>185</td>\n",
       "    </tr>\n",
       "    <tr>\n",
       "      <th>4</th>\n",
       "      <td>2</td>\n",
       "      <td>148</td>\n",
       "    </tr>\n",
       "    <tr>\n",
       "      <th>5</th>\n",
       "      <td>2</td>\n",
       "      <td>160</td>\n",
       "    </tr>\n",
       "    <tr>\n",
       "      <th>6</th>\n",
       "      <td>2</td>\n",
       "      <td>192</td>\n",
       "    </tr>\n",
       "    <tr>\n",
       "      <th>7</th>\n",
       "      <td>3</td>\n",
       "      <td>205</td>\n",
       "    </tr>\n",
       "    <tr>\n",
       "      <th>8</th>\n",
       "      <td>3</td>\n",
       "      <td>244</td>\n",
       "    </tr>\n",
       "    <tr>\n",
       "      <th>9</th>\n",
       "      <td>3</td>\n",
       "      <td>213</td>\n",
       "    </tr>\n",
       "    <tr>\n",
       "      <th>10</th>\n",
       "      <td>3</td>\n",
       "      <td>236</td>\n",
       "    </tr>\n",
       "    <tr>\n",
       "      <th>11</th>\n",
       "      <td>3</td>\n",
       "      <td>280</td>\n",
       "    </tr>\n",
       "    <tr>\n",
       "      <th>12</th>\n",
       "      <td>3</td>\n",
       "      <td>275</td>\n",
       "    </tr>\n",
       "    <tr>\n",
       "      <th>13</th>\n",
       "      <td>3</td>\n",
       "      <td>273</td>\n",
       "    </tr>\n",
       "    <tr>\n",
       "      <th>14</th>\n",
       "      <td>4</td>\n",
       "      <td>312</td>\n",
       "    </tr>\n",
       "    <tr>\n",
       "      <th>15</th>\n",
       "      <td>4</td>\n",
       "      <td>311</td>\n",
       "    </tr>\n",
       "    <tr>\n",
       "      <th>16</th>\n",
       "      <td>4</td>\n",
       "      <td>304</td>\n",
       "    </tr>\n",
       "    <tr>\n",
       "      <th>17</th>\n",
       "      <td>5</td>\n",
       "      <td>415</td>\n",
       "    </tr>\n",
       "    <tr>\n",
       "      <th>18</th>\n",
       "      <td>5</td>\n",
       "      <td>396</td>\n",
       "    </tr>\n",
       "    <tr>\n",
       "      <th>19</th>\n",
       "      <td>6</td>\n",
       "      <td>488</td>\n",
       "    </tr>\n",
       "  </tbody>\n",
       "</table>\n",
       "</div>"
      ],
      "text/plain": [
       "    Bedrooms  Prices\n",
       "0          1     120\n",
       "1          1     133\n",
       "2          1     139\n",
       "3          2     185\n",
       "4          2     148\n",
       "5          2     160\n",
       "6          2     192\n",
       "7          3     205\n",
       "8          3     244\n",
       "9          3     213\n",
       "10         3     236\n",
       "11         3     280\n",
       "12         3     275\n",
       "13         3     273\n",
       "14         4     312\n",
       "15         4     311\n",
       "16         4     304\n",
       "17         5     415\n",
       "18         5     396\n",
       "19         6     488"
      ]
     },
     "execution_count": 4,
     "metadata": {},
     "output_type": "execute_result"
    }
   ],
   "source": [
    "df_Rooms = pd.DataFrame({'Bedrooms':Bedrooms, 'Prices':Prices})\n",
    "df_Rooms"
   ]
  },
  {
   "cell_type": "code",
   "execution_count": 4,
   "id": "bb118907",
   "metadata": {},
   "outputs": [
    {
     "data": {
      "text/html": [
       "<div>\n",
       "<style scoped>\n",
       "    .dataframe tbody tr th:only-of-type {\n",
       "        vertical-align: middle;\n",
       "    }\n",
       "\n",
       "    .dataframe tbody tr th {\n",
       "        vertical-align: top;\n",
       "    }\n",
       "\n",
       "    .dataframe thead th {\n",
       "        text-align: right;\n",
       "    }\n",
       "</style>\n",
       "<table border=\"1\" class=\"dataframe\">\n",
       "  <thead>\n",
       "    <tr style=\"text-align: right;\">\n",
       "      <th></th>\n",
       "      <th>Bedrooms</th>\n",
       "      <th>Prices</th>\n",
       "    </tr>\n",
       "  </thead>\n",
       "  <tbody>\n",
       "    <tr>\n",
       "      <th>13</th>\n",
       "      <td>3</td>\n",
       "      <td>273</td>\n",
       "    </tr>\n",
       "    <tr>\n",
       "      <th>12</th>\n",
       "      <td>3</td>\n",
       "      <td>275</td>\n",
       "    </tr>\n",
       "    <tr>\n",
       "      <th>8</th>\n",
       "      <td>3</td>\n",
       "      <td>244</td>\n",
       "    </tr>\n",
       "    <tr>\n",
       "      <th>17</th>\n",
       "      <td>5</td>\n",
       "      <td>415</td>\n",
       "    </tr>\n",
       "    <tr>\n",
       "      <th>11</th>\n",
       "      <td>3</td>\n",
       "      <td>280</td>\n",
       "    </tr>\n",
       "    <tr>\n",
       "      <th>5</th>\n",
       "      <td>2</td>\n",
       "      <td>160</td>\n",
       "    </tr>\n",
       "    <tr>\n",
       "      <th>9</th>\n",
       "      <td>3</td>\n",
       "      <td>213</td>\n",
       "    </tr>\n",
       "    <tr>\n",
       "      <th>0</th>\n",
       "      <td>1</td>\n",
       "      <td>120</td>\n",
       "    </tr>\n",
       "    <tr>\n",
       "      <th>1</th>\n",
       "      <td>1</td>\n",
       "      <td>133</td>\n",
       "    </tr>\n",
       "    <tr>\n",
       "      <th>18</th>\n",
       "      <td>5</td>\n",
       "      <td>396</td>\n",
       "    </tr>\n",
       "  </tbody>\n",
       "</table>\n",
       "</div>"
      ],
      "text/plain": [
       "    Bedrooms  Prices\n",
       "13         3     273\n",
       "12         3     275\n",
       "8          3     244\n",
       "17         5     415\n",
       "11         3     280\n",
       "5          2     160\n",
       "9          3     213\n",
       "0          1     120\n",
       "1          1     133\n",
       "18         5     396"
      ]
     },
     "execution_count": 4,
     "metadata": {},
     "output_type": "execute_result"
    }
   ],
   "source": [
    "sample_df = df_Rooms.sample(10)\n",
    "sample_df"
   ]
  },
  {
   "cell_type": "markdown",
   "id": "93d5c3f1",
   "metadata": {},
   "source": [
    "* Compute the mean and standard deviation of the sample"
   ]
  },
  {
   "cell_type": "code",
   "execution_count": 22,
   "id": "6188691a",
   "metadata": {},
   "outputs": [
    {
     "name": "stdout",
     "output_type": "stream",
     "text": [
      "The mean of the Bedrooms and Prices sample are 2.90 and 255.20 respectively.\n",
      "The standard deviation of the Bedrooms and Prices sample are 1.73 and 125.71 respectively.\n"
     ]
    }
   ],
   "source": [
    "bed_sample_Mean = sample_df['Bedrooms'].mean()\n",
    "price_sample_Mean = sample_df['Prices'].mean()\n",
    "print(\"The mean of the Bedrooms and Prices sample are %.2f and %.2f respectively.\"%(bed_sample_Mean, price_sample_Mean))\n",
    "bed_sample_Std = sample_df['Bedrooms'].std()\n",
    "price_sample_Std = sample_df['Prices'].std()\n",
    "print(\"The standard deviation of the Bedrooms and Prices sample are %.2f and %.2f respectively.\"%(bed_sample_Std, price_sample_Std))"
   ]
  },
  {
   "cell_type": "markdown",
   "id": "b47d17d6",
   "metadata": {},
   "source": [
    "* Compute the the mean of the population"
   ]
  },
  {
   "cell_type": "code",
   "execution_count": 23,
   "id": "7a03f1ce",
   "metadata": {},
   "outputs": [
    {
     "name": "stdout",
     "output_type": "stream",
     "text": [
      "The mean of the Bedrooms and Prices population are 3.00 and 251.45 respectively.\n"
     ]
    }
   ],
   "source": [
    "bedroom_Mean = df_Rooms['Bedrooms'].mean()\n",
    "price_Mean = df_Rooms['Prices'].mean()\n",
    "print(\"The mean of the Bedrooms and Prices population are %.2f and %.2f respectively.\"%(bedroom_Mean, price_Mean))"
   ]
  },
  {
   "attachments": {
    "Untitled.png": {
     "image/png": "[encoded data removed]"
    }
   },
   "cell_type": "markdown",
   "id": "a9779c50",
   "metadata": {},
   "source": [
    "* Compute the confidence interval of 95% using the sample \n",
    "![Untitled.png](attachment:Untitled.png)"
   ]
  },
  {
   "cell_type": "code",
   "execution_count": 25,
   "id": "27b4c88a",
   "metadata": {},
   "outputs": [
    {
     "name": "stdout",
     "output_type": "stream",
     "text": [
      "Z_value is :  1.96\n",
      "95% confidence interval for Bedrooms : [2.2967, 3.5033]\n",
      "95% confidence interval for price : [211.3377, 299.0623]\n"
     ]
    }
   ],
   "source": [
    "n = len(Bedrooms)\n",
    "confidence_level = 0.95\n",
    "# t.ppf() function,  find the critical value that corresponds to a confidence level \n",
    "# defult  loc=mean=0, scale=std_dev=1 , (df=n-1 then it's z_value)\n",
    "z_value = norm.ppf((1 + confidence_level) / 2).round(2)\n",
    "margin_Err = z_value * (df_Rooms['Bedrooms'].std() / math.sqrt(len(df_Rooms['Bedrooms'])))\n",
    "lower_band_CI_B = bed_sample_Mean - margin_Err\n",
    "upper_band_CI_B = bed_sample_Mean + margin_Err\n",
    "print('Z_value is : ', z_value)\n",
    "print(f\"95% confidence interval for Bedrooms : [{lower_band_CI_B:.4f}, {upper_band_CI_B:.4f}]\")\n",
    "\n",
    "# ===============================================================================\n",
    "\n",
    "margin_Err = z_value * (df_Rooms['Prices'].std() / math.sqrt(len(df_Rooms['Prices'])))\n",
    "lower_band_CI_P = price_sample_Mean - margin_Err\n",
    "upper_band_CI_P = price_sample_Mean + margin_Err\n",
    "print(f\"95% confidence interval for price : [{lower_band_CI_P:.4f}, {upper_band_CI_P:.4f}]\")"
   ]
  },
  {
   "cell_type": "markdown",
   "id": "6c225cba",
   "metadata": {},
   "source": [
    "* Check if the population mean lies between the upper and lower bounds of the interval"
   ]
  },
  {
   "cell_type": "code",
   "execution_count": 26,
   "id": "30f4fd2b",
   "metadata": {},
   "outputs": [
    {
     "name": "stdout",
     "output_type": "stream",
     "text": [
      "population mean for Bedrooms is 3.00 and confidence interval is [2.2967, 3.5033]\n",
      "population mean for Prices is 251.45 and confidence interval is [211.3377, 299.0623]\n"
     ]
    }
   ],
   "source": [
    "print(f\"population mean for Bedrooms is {bedroom_Mean:.2f} and confidence interval is [{lower_band_CI_B:.4f}, {upper_band_CI_B:.4f}]\")\n",
    "print(f\"population mean for Prices is {price_Mean:.2f} and confidence interval is [{lower_band_CI_P:.4f}, {upper_band_CI_P:.4f}]\")"
   ]
  },
  {
   "cell_type": "markdown",
   "id": "055839a4",
   "metadata": {},
   "source": [
    "* Using both of the Bedrooms and the Prices:\n",
    "* Compute the covariance and the correlation between the two variables"
   ]
  },
  {
   "cell_type": "code",
   "execution_count": 27,
   "id": "701ff55c",
   "metadata": {},
   "outputs": [
    {
     "data": {
      "text/html": [
       "<div>\n",
       "<style scoped>\n",
       "    .dataframe tbody tr th:only-of-type {\n",
       "        vertical-align: middle;\n",
       "    }\n",
       "\n",
       "    .dataframe tbody tr th {\n",
       "        vertical-align: top;\n",
       "    }\n",
       "\n",
       "    .dataframe thead th {\n",
       "        text-align: right;\n",
       "    }\n",
       "</style>\n",
       "<table border=\"1\" class=\"dataframe\">\n",
       "  <thead>\n",
       "    <tr style=\"text-align: right;\">\n",
       "      <th></th>\n",
       "      <th>Bedrooms</th>\n",
       "      <th>Prices</th>\n",
       "    </tr>\n",
       "  </thead>\n",
       "  <tbody>\n",
       "    <tr>\n",
       "      <th>Bedrooms</th>\n",
       "      <td>1.894737</td>\n",
       "      <td>133.894737</td>\n",
       "    </tr>\n",
       "    <tr>\n",
       "      <th>Prices</th>\n",
       "      <td>133.894737</td>\n",
       "      <td>10016.155263</td>\n",
       "    </tr>\n",
       "  </tbody>\n",
       "</table>\n",
       "</div>"
      ],
      "text/plain": [
       "            Bedrooms        Prices\n",
       "Bedrooms    1.894737    133.894737\n",
       "Prices    133.894737  10016.155263"
      ]
     },
     "execution_count": 27,
     "metadata": {},
     "output_type": "execute_result"
    }
   ],
   "source": [
    "df_Rooms.cov()"
   ]
  },
  {
   "cell_type": "code",
   "execution_count": 28,
   "id": "94b699db",
   "metadata": {},
   "outputs": [
    {
     "data": {
      "text/html": [
       "<div>\n",
       "<style scoped>\n",
       "    .dataframe tbody tr th:only-of-type {\n",
       "        vertical-align: middle;\n",
       "    }\n",
       "\n",
       "    .dataframe tbody tr th {\n",
       "        vertical-align: top;\n",
       "    }\n",
       "\n",
       "    .dataframe thead th {\n",
       "        text-align: right;\n",
       "    }\n",
       "</style>\n",
       "<table border=\"1\" class=\"dataframe\">\n",
       "  <thead>\n",
       "    <tr style=\"text-align: right;\">\n",
       "      <th></th>\n",
       "      <th>Bedrooms</th>\n",
       "      <th>Prices</th>\n",
       "    </tr>\n",
       "  </thead>\n",
       "  <tbody>\n",
       "    <tr>\n",
       "      <th>Bedrooms</th>\n",
       "      <td>1.000000</td>\n",
       "      <td>0.971938</td>\n",
       "    </tr>\n",
       "    <tr>\n",
       "      <th>Prices</th>\n",
       "      <td>0.971938</td>\n",
       "      <td>1.000000</td>\n",
       "    </tr>\n",
       "  </tbody>\n",
       "</table>\n",
       "</div>"
      ],
      "text/plain": [
       "          Bedrooms    Prices\n",
       "Bedrooms  1.000000  0.971938\n",
       "Prices    0.971938  1.000000"
      ]
     },
     "execution_count": 28,
     "metadata": {},
     "output_type": "execute_result"
    }
   ],
   "source": [
    "df_Rooms.corr()"
   ]
  },
  {
   "cell_type": "code",
   "execution_count": 12,
   "id": "dcacf447",
   "metadata": {},
   "outputs": [
    {
     "data": {
      "text/plain": [
       "<AxesSubplot: >"
      ]
     },
     "execution_count": 12,
     "metadata": {},
     "output_type": "execute_result"
    },
    {
     "data": {
      "image/png": "[encoded data removed]",
      "text/plain": [
       "<Figure size 400x200 with 2 Axes>"
      ]
     },
     "metadata": {},
     "output_type": "display_data"
    }
   ],
   "source": [
    "plt.figure(figsize=(4,2))\n",
    "sns.heatmap(df_Rooms.corr(), annot=True, cmap=\"RdYlBu\")"
   ]
  },
  {
   "cell_type": "markdown",
   "id": "c012c308",
   "metadata": {},
   "source": [
    "* Build a regression model and estimate the regression parameters (slope and intercept)."
   ]
  },
  {
   "cell_type": "code",
   "execution_count": 34,
   "id": "c46df28a",
   "metadata": {},
   "outputs": [
    {
     "name": "stdout",
     "output_type": "stream",
     "text": [
      "Intercept is : 39.45\n",
      "Slope is : 70.67 \n"
     ]
    }
   ],
   "source": [
    "from sklearn.linear_model import LinearRegression\n",
    "model = LinearRegression()\n",
    "x = np.array(df_Rooms['Bedrooms']).reshape(-1, 1)\n",
    "y = df_Rooms['Prices']\n",
    "model.fit(x, y)\n",
    "print(\"Intercept is : %.2f\"%model.intercept_.round(2))\n",
    "print(\"Slope is : %.2f \"%model.coef_[0].round(2))"
   ]
  },
  {
   "cell_type": "code",
   "execution_count": 40,
   "id": "86afd95c",
   "metadata": {
    "collapsed": true
   },
   "outputs": [
    {
     "data": {
      "text/plain": [
       "Text(0.5, 1.0, 'Linear Regression')"
      ]
     },
     "execution_count": 40,
     "metadata": {},
     "output_type": "execute_result"
    },
    {
     "data": {
      "image/png": "[encoded data removed]",
      "text/plain": [
       "<Figure size 640x480 with 1 Axes>"
      ]
     },
     "metadata": {},
     "output_type": "display_data"
    }
   ],
   "source": [
    "plt.scatter(x,y)\n",
    "y_hat = model.predict(x)\n",
    "plt.plot(x, y_hat,color='red')\n",
    "plt.xlabel('Predictor Variable')\n",
    "plt.ylabel('Response Variable')\n",
    "plt.title('Linear Regression')"
   ]
  },
  {
   "cell_type": "markdown",
   "id": "a2681bd4",
   "metadata": {},
   "source": [
    "* Predict the house price for a house with 7 rooms"
   ]
  },
  {
   "cell_type": "code",
   "execution_count": 42,
   "id": "299be2de",
   "metadata": {},
   "outputs": [
    {
     "name": "stdout",
     "output_type": "stream",
     "text": [
      "Predicted value for 7 bedrooms is :  534.12\n"
     ]
    }
   ],
   "source": [
    "x_New = 7\n",
    "y_pred = model.predict(np.array(x_New).reshape(-1,1)).round(2)[0]\n",
    "print(\"Predicted value for 7 bedrooms is : \", y_pred)"
   ]
  },
  {
   "attachments": {
    "Untitled-2.png": {
     "image/png": "[encoded data removed]"
    },
    "Untitled.png": {
     "image/png": "[encoded data removed]"
    }
   },
   "cell_type": "markdown",
   "id": "6b6d33f1",
   "metadata": {},
   "source": [
    "* Estimate the upper bound and the lower bounds of the prediction interval of a house with 7 rooms\n",
    "* Alpha = 0.1\n",
    "* N = 20\n",
    "* Df = N-2\n",
    "![Untitled-2.png](attachment:Untitled-2.png)\n",
    "![Untitled.png](attachment:Untitled.png)"
   ]
  },
  {
   "cell_type": "code",
   "execution_count": 51,
   "id": "adb407ed",
   "metadata": {},
   "outputs": [
    {
     "name": "stdout",
     "output_type": "stream",
     "text": [
      "The t-value for alpha = 0.1 and N = 20 is 1.7340636066175354\n",
      "95% prediction interval for price : [532.0002, 536.2398]\n"
     ]
    }
   ],
   "source": [
    "alpha = 0.1\n",
    "N = 20\n",
    "dof = N - 2\n",
    "t_value = t.ppf(1-alpha/2, dof)\n",
    "MSE = ((y-y_hat)**2)/dof\n",
    "st_Err = np.sqrt(1+(1/N)+(((x_New- x.mean())**2)/(((x-x.mean())**2).sum())))\n",
    "print(f\"The t-value for alpha = {alpha} and N = 20 is {t_value}\")\n",
    "interval = t_value * st_Err\n",
    "lower_band_PI_7 = y_pred - interval\n",
    "upper_band_PI_7 = y_pred + interval\n",
    "print(f\"95% prediction interval for price : [{lower_band_PI_7:.4f}, {upper_band_PI_7:.4f}]\")"
   ]
  },
  {
   "attachments": {
    "Untitled.png": {
     "image/png": "[encoded data removed]"
    }
   },
   "cell_type": "markdown",
   "id": "21edc28e",
   "metadata": {},
   "source": [
    "* Using as sample of houses that have only 3 bedrooms \n",
    "* Try to find the lower price that can be payed for a house with 3 rooms using Tolerance interval\n",
    "* Try  to find the highest price that can be payed for a house with 3 rooms using Tolerance interval\n",
    "![Untitled.png](attachment:Untitled.png)"
   ]
  },
  {
   "cell_type": "raw",
   "id": "ea52277a",
   "metadata": {},
   "source": [
    "*** we need confidence interval and proportion of population to solve this ***"
   ]
  }
 ],
 "metadata": {
  "kernelspec": {
   "display_name": "Python 3 (ipykernel)",
   "language": "python",
   "name": "python3"
  },
  "language_info": {
   "codemirror_mode": {
    "name": "ipython",
    "version": 3
   },
   "file_extension": ".py",
   "mimetype": "text/x-python",
   "name": "python",
   "nbconvert_exporter": "python",
   "pygments_lexer": "ipython3",
   "version": "3.9.13"
  }
 },
 "nbformat": 4,
 "nbformat_minor": 5
}
