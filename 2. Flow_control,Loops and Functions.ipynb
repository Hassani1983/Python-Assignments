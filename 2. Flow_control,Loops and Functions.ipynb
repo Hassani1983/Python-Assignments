{
 "cells": [
  {
   "cell_type": "raw",
   "id": "eb42c601",
   "metadata": {},
   "source": [
    "Get the radius value as input and calculate the area of the circle. If the input is numeric, display the result otherwise display any other message.\n",
    "If the user enters numeric value then asks user to for either perimeter or area calculation and display accordingly"
   ]
  },
  {
   "cell_type": "code",
   "execution_count": 1,
   "id": "a1935cee",
   "metadata": {},
   "outputs": [],
   "source": [
    "import os\n",
    "import sys\n",
    "import math"
   ]
  },
  {
   "cell_type": "code",
   "execution_count": 2,
   "id": "288ae100",
   "metadata": {},
   "outputs": [
    {
     "name": "stdout",
     "output_type": "stream",
     "text": [
      "please Enter the radius value as input:  3\n",
      "please Enter 'p' for perimeter Or 'a' for area:  a\n",
      "Input Character is NOT p or a\n",
      "Area is ==>  18.84955592153876\n"
     ]
    }
   ],
   "source": [
    "# sys.argv[]\n",
    "radius = input('please Enter the radius value as input:  ')\n",
    "p_Or_a = input(\"please Enter 'p' for perimeter Or 'a' for area:  \")\n",
    "if (p_Or_a != 'p' or p_Or_a != 'a'):\n",
    "    print(\"Input Character is NOT p or a\")\n",
    "if radius.isdigit():\n",
    "    if p_Or_a == 'p':\n",
    "        perimeter = math.pi * int(radius) ** 2\n",
    "        print('perimeter is ==> ',perimeter)\n",
    "    elif p_Or_a == 'a':\n",
    "        area = 2 * math.pi * int(radius)\n",
    "        print('Area is ==> ',area)\n",
    "else:\n",
    "    try:\n",
    "        if p_Or_a == 'p':\n",
    "            perimeter = math.pi * float(radius) ** 2\n",
    "            print('perimeter is ==> %.5f'%perimeter)\n",
    "        elif p_Or_a == 'a':\n",
    "            area = 2 * math.pi * float(radius)\n",
    "            print('Area is ==> {:.3f}'.format(area))\n",
    "    except:\n",
    "        print(\"Input is NOT a number\")"
   ]
  },
  {
   "cell_type": "raw",
   "id": "90801ea8",
   "metadata": {},
   "source": [
    "Check if there is a student named 'Maria' in students_profile dictionary. If exists remove 'ML' from her course"
   ]
  },
  {
   "cell_type": "code",
   "execution_count": 3,
   "id": "765c60dc",
   "metadata": {},
   "outputs": [],
   "source": [
    "students_profile={'Duy': ['Python', 'Database', 'ML'], 'Laxmi': ['Python', 'Database', 'ML'],\n",
    "                  'Antonio': ['Python', 'Database', 'ML'],'Maria': ['Python', 'Database', 'ML']}"
   ]
  },
  {
   "cell_type": "code",
   "execution_count": 4,
   "id": "9049c46c",
   "metadata": {},
   "outputs": [
    {
     "name": "stdout",
     "output_type": "stream",
     "text": [
      "['Python', 'Database']\n"
     ]
    }
   ],
   "source": [
    "if 'Maria' in students_profile:\n",
    "    students_profile['Maria'].remove('ML')\n",
    "\n",
    "print(students_profile['Maria'])"
   ]
  },
  {
   "cell_type": "raw",
   "id": "35d3ff2e",
   "metadata": {},
   "source": [
    "Take the input from the user as a substring. If that substring is present in string then display substring is present otherwise substring is not present"
   ]
  },
  {
   "cell_type": "code",
   "execution_count": 5,
   "id": "d5ab537b",
   "metadata": {},
   "outputs": [
    {
     "name": "stdout",
     "output_type": "stream",
     "text": [
      "Plearse enter a sub string for check : is\n",
      "The 'is' is in the main string\n"
     ]
    }
   ],
   "source": [
    "STRING = \"Hi, This is a test for checking substrings\"\n",
    "substr = input(\"Plearse enter a sub string for check : \")\n",
    "if substr in STRING:\n",
    "    print(\"The '%s' is in the main string\"%substr)\n",
    "else:\n",
    "    print(\"The {} is NOT in the main string\",substr)    "
   ]
  },
  {
   "cell_type": "raw",
   "id": "b9c9c9f8",
   "metadata": {},
   "source": [
    "Distance Metrics are important to calculate the similarity between the vectors. They are used in both supervised and unsupervised machine learning problems. Given the points (1,2,3) and (4,5,6), write a python conditional statement to print the distance for the order 1,2,3,4. If the order is 1 then it is L1 norm(Manhattan distance), order 2 is L2 norm(Euclidean distance) and the generalized distance is given by Minkowski equation."
   ]
  },
  {
   "cell_type": "code",
   "execution_count": 6,
   "id": "53e8f5de",
   "metadata": {},
   "outputs": [
    {
     "name": "stdout",
     "output_type": "stream",
     "text": [
      "Enter a digit between 1 to 4 : 2\n",
      "Euclidean distance is equal to  5.196152422706632\n"
     ]
    }
   ],
   "source": [
    "import math\n",
    "\n",
    "p1 = (1,2,3)\n",
    "p2 = (4,5,6)\n",
    "order = input(\"Enter a digit between 1 to 4 : \")\n",
    "order = int(order)\n",
    "try:\n",
    "    if order == 1:\n",
    "#         (Manhattan distance)\n",
    "#         dist((x, y), (a, b)) = |x - a| + |y - b|\n",
    "        l1_Norm = sum([abs(p1[i] - p2[i]) for i in range(len(p1))])\n",
    "        print(\"Manhattan distance is equal to \", l1_Norm)\n",
    "    elif order == 2:\n",
    "#         (Euclidean distance)\n",
    "#         dist((x, y), (a, b)) = √(x - a)² + (y - b)²\n",
    "        l2_Norm = math.sqrt(sum([(p1[i] - p2[i]) ** 2 for i in range(len(p1))]))\n",
    "        print(\"Euclidean distance is equal to \", l2_Norm)\n",
    "    else:\n",
    "#         (Minkowski distance)\n",
    "        minkowski = math.pow(sum([math.pow(abs(p1[i] - p2[i]), order) for i in range(len(p1))]), 1/order)\n",
    "        print(\"Minkowski distance is equal to \", minkowski)\n",
    "except:\n",
    "    print(\"Entry Number is not valid \")"
   ]
  },
  {
   "cell_type": "raw",
   "id": "c3a7bb00",
   "metadata": {},
   "source": [
    "Write a multiplication table for any given number using both for and while loop"
   ]
  },
  {
   "cell_type": "code",
   "execution_count": 7,
   "id": "924a3fc8",
   "metadata": {},
   "outputs": [
    {
     "name": "stdout",
     "output_type": "stream",
     "text": [
      "Enter a number: 4\n",
      "FOR LOOP\n",
      "4 x 1 = 4\n",
      "4 x 2 = 8\n",
      "4 x 3 = 12\n",
      "4 x 4 = 16\n",
      "4 x 5 = 20\n",
      "4 x 6 = 24\n",
      "4 x 7 = 28\n",
      "4 x 8 = 32\n",
      "4 x 9 = 36\n",
      "4 x 10 = 40\n",
      "\n",
      " WHILE LOOP\n",
      "4 x 1 = 4\n",
      "4 x 2 = 8\n",
      "4 x 3 = 12\n",
      "4 x 4 = 16\n",
      "4 x 5 = 20\n",
      "4 x 6 = 24\n",
      "4 x 7 = 28\n",
      "4 x 8 = 32\n",
      "4 x 9 = 36\n",
      "4 x 10 = 40\n"
     ]
    }
   ],
   "source": [
    "num = int(input(\"Enter a number: \"))\n",
    "i = 1\n",
    "print(\"FOR LOOP\")\n",
    "for i in range(10):\n",
    "    i += 1\n",
    "    print(f\"{num} x {i} = {num*i}\")\n",
    "\n",
    "print(\"\\n WHILE LOOP\")\n",
    "i = 1    \n",
    "while i <= 10:\n",
    "    print(f\"{num} x {i} = {num*i}\")\n",
    "    i += 1\n"
   ]
  },
  {
   "cell_type": "raw",
   "id": "54cc7aea",
   "metadata": {},
   "source": [
    "DNA is coded using 4 nitrogen bases with the symbols A,T,G,C. Given the template string dna_template='AATCCGAAAATTCGGGAATTTTCGCGT' , generate the complementary dna template with the mapping\n",
    "\n",
    "mapper={\"T\":\"A\",\"A\":\"T\",\"G\":\"C\",\"C\":\"G\"}"
   ]
  },
  {
   "cell_type": "code",
   "execution_count": 8,
   "id": "f2580407",
   "metadata": {},
   "outputs": [
    {
     "name": "stdout",
     "output_type": "stream",
     "text": [
      "TTAGGCTTTTAAGCCCTTAAAAGCGCA\n"
     ]
    }
   ],
   "source": [
    "dna_template='AATCCGAAAATTCGGGAATTTTCGCGT' \n",
    "mapper={\"T\":\"A\",\"A\":\"T\",\"G\":\"C\",\"C\":\"G\"}\n",
    "complementary_DNA = \"\"\n",
    "for nitrogen in dna_template:\n",
    "    complementary_DNA += mapper[nitrogen]\n",
    "    \n",
    "print(complementary_DNA)"
   ]
  },
  {
   "cell_type": "raw",
   "id": "ba5fca11",
   "metadata": {},
   "source": [
    "Generate the list f_series=x=[0,1,1,2,3,5,8,13,21,34,55,89,144]. Looks Familiar? This is Fibonacci series where x[0]=0,x[1]=1, and x[n]=x[n-1]+x[n-2] for n>1"
   ]
  },
  {
   "cell_type": "code",
   "execution_count": 9,
   "id": "106c4a1b",
   "metadata": {},
   "outputs": [
    {
     "name": "stdout",
     "output_type": "stream",
     "text": [
      "Enter a number for Fibonacci series: 5\n",
      "[0, 1, 1, 2, 3]\n"
     ]
    }
   ],
   "source": [
    "num = int(input(\"Enter a number for Fibonacci series: \"))\n",
    "x = []\n",
    "x = [n for n in range(num)]\n",
    "for n in range(num):\n",
    "    if n>1: x[n] = x[n-1] + x[n-2]\n",
    "print(x)"
   ]
  },
  {
   "cell_type": "raw",
   "id": "f9d5ff10",
   "metadata": {},
   "source": [
    "Generate a list of n numbers of prime numbers"
   ]
  },
  {
   "cell_type": "code",
   "execution_count": 10,
   "id": "f359a2a4",
   "metadata": {},
   "outputs": [
    {
     "name": "stdout",
     "output_type": "stream",
     "text": [
      "Enter a number for checking 'IS PRIME Number or NOT': 57\n",
      "prime_List :  [2, 3, 5, 7, 11, 13, 17, 19, 23, 29, 31, 37, 41, 43, 47, 53, 59, 61, 67, 71, 73, 79, 83, 89, 97, 101, 103, 107, 109, 113, 127, 131, 137, 139, 149, 151, 157, 163, 167, 173, 179, 181, 191, 193, 197, 199, 211, 223, 227, 229, 233, 239, 241, 251, 257, 263, 269]\n"
     ]
    }
   ],
   "source": [
    "num = int(input(\"Enter a number for checking 'IS PRIME Number or NOT': \"))\n",
    "prime_List = [2,3]\n",
    "n = 4\n",
    "while len(prime_List) < num:\n",
    "    is_Prime = True\n",
    "    n += 1\n",
    "    for i in range((n//2)+1):\n",
    "        if (n % (i+2)) == 0:\n",
    "            is_Prime = False\n",
    "            break\n",
    "    if is_Prime: prime_List.append(n)\n",
    "print(\"prime_List : \",prime_List)        "
   ]
  },
  {
   "cell_type": "raw",
   "id": "0b3b7466",
   "metadata": {},
   "source": [
    "Perform the minmax normalization to the range [0,1] for the data1 and minmax normalization to the range [-1,1] for the data2\n",
    "\n",
    "data1=[1,17,12,15,30,60,48,51,89,92,54,8], use\n",
    "\n",
    "X_scaled = (X - X_min) / (X_max - X_min)\n",
    "\n",
    "data2=[-13,2,-1,7,22,-32,5,15,-9,13,3,-2], use\n",
    "\n",
    "X_scaled = 2 * (X - X_min) / (X_max - X_min) - 1\n",
    "\n",
    "The general formula for scaling in the range [a,b] is\n",
    "\n",
    "X_scaled = (b-a) * (X - X_min) / (X_max - X_min) + a"
   ]
  },
  {
   "cell_type": "code",
   "execution_count": 11,
   "id": "3e30d67a",
   "metadata": {},
   "outputs": [
    {
     "name": "stdout",
     "output_type": "stream",
     "text": [
      "[0.0, 0.17582417582417584, 0.12087912087912088, 0.15384615384615385, 0.31868131868131866, 0.6483516483516484, 0.5164835164835165, 0.5494505494505495, 0.967032967032967, 1.0, 0.5824175824175825, 0.07692307692307693]\n"
     ]
    }
   ],
   "source": [
    "import numpy as np\n",
    "\n",
    "data1 = [1,17,12,15,30,60,48,51,89,92,54,8]\n",
    "# X_scaled = (X - X_min) / (X_max - X_min)\n",
    "X_min = np.min(data1)\n",
    "X_max = np.max(data1)\n",
    "for i in range(len(data1)):\n",
    "    data1[i] = (data1[i]-X_min) / (X_max - X_min)\n",
    "print(data1)"
   ]
  },
  {
   "cell_type": "code",
   "execution_count": 12,
   "id": "e66f6cc2",
   "metadata": {},
   "outputs": [
    {
     "name": "stdout",
     "output_type": "stream",
     "text": [
      "[-0.2962962962962963, 0.2592592592592593, 0.14814814814814814, 0.4444444444444444, 1.0, -1.0, 0.37037037037037046, 0.7407407407407407, -0.14814814814814814, 0.6666666666666667, 0.2962962962962963, 0.11111111111111116]\n"
     ]
    }
   ],
   "source": [
    "data2=[-13,2,-1,7,22,-32,5,15,-9,13,3,-2]\n",
    "X_min = np.min(data2)\n",
    "X_max = np.max(data2)\n",
    "for i in range(len(data2)):\n",
    "    data2[i] = 2 * (data2[i]-X_min) / (X_max - X_min) -1\n",
    "#     X_scaled = 2 * (X - X_min) / (X_max - X_min) - 1\n",
    "print(data2)"
   ]
  },
  {
   "cell_type": "raw",
   "id": "e622e61a",
   "metadata": {},
   "source": [
    "Understand how sorting algorithms work(bubble,selection,insertion). Implement them of your own. Also compare time complexities."
   ]
  },
  {
   "cell_type": "code",
   "execution_count": 13,
   "id": "df649efd",
   "metadata": {},
   "outputs": [
    {
     "name": "stdout",
     "output_type": "stream",
     "text": [
      "please Enter B for Bubble Sort, S for Selection Sort and I for Insertion Sort s\n",
      "Selection_Sort time is :  0:00:00.035868\n"
     ]
    }
   ],
   "source": [
    "import random\n",
    "from datetime import datetime\n",
    "\n",
    "def Bubble_Sort(l):\n",
    "    n = len(l)\n",
    "    for i in range(n):\n",
    "        for j in range(n-i-1):\n",
    "            if l[j]>l[j+1]:\n",
    "                l[j], l[j+1] = l[j+1], l[j]\n",
    "    return(l)\n",
    "\n",
    "def Selection_Sort(l):\n",
    "    for i in range(len(l)):\n",
    "        min_idx = i\n",
    "        for j in range(i + 1, len(l)):\n",
    "            if l[j] < l[min_idx]:\n",
    "                min_idx = j\n",
    "        l[i], l[min_idx] = l[min_idx], l[i]\n",
    "    return(l)\n",
    "    \n",
    "def Insertion_Sort(l):\n",
    "    for i in range(1, len(l)):\n",
    "        key = l[i]\n",
    "        j = i - 1\n",
    "        while j >= 0 and key < l[j]:\n",
    "            l[j + 1] = l[j]\n",
    "            j -= 1\n",
    "        l[j + 1] = key\n",
    "    return(l)\n",
    "\n",
    "input_list = [random.randint(1,1000) for n in range(1000)]\n",
    "s = input(\"please Enter B for Bubble Sort, S for Selection Sort and I for Insertion Sort \")\n",
    "start = datetime.now()\n",
    "if s == 'b' or s == 'B':\n",
    "    sorted_list = Bubble_Sort(input_list)\n",
    "    print(\"Bubble_Sort time is : \", (datetime.now()-start))\n",
    "elif s == 's' or s == 'S':\n",
    "    sorted_list = Selection_Sort(input_list)\n",
    "    print(\"Selection_Sort time is : \", (datetime.now()-start))\n",
    "elif s == 'i' or s == 'I':\n",
    "    sorted_list = Insertion_Sort(input_list)\n",
    "    print(\"Insertion_Sort time is : \", (datetime.now()-start))\n",
    "else:\n",
    "    print(\"Please select the appropriate character\")\n",
    "\n",
    "# print(sorted_list)"
   ]
  },
  {
   "cell_type": "raw",
   "id": "1e6f9e99",
   "metadata": {},
   "source": [
    "Functions: For each of the functions you create, write the docstrings as well. Docstring is important to get information about a particular function. Docstring is string literals that should be present right after function definition within triple quotations. One can get information about a function as an example by running myfunction .__doc__"
   ]
  },
  {
   "cell_type": "raw",
   "id": "aebb87f4",
   "metadata": {},
   "source": [
    "Write a function factorial of a given number"
   ]
  },
  {
   "cell_type": "code",
   "execution_count": 14,
   "id": "2270c7e5",
   "metadata": {},
   "outputs": [
    {
     "name": "stdout",
     "output_type": "stream",
     "text": [
      "please enter a number : 7\n",
      "5040\n"
     ]
    }
   ],
   "source": [
    "def factorial(n):\n",
    "    \"\"\" This function take a number and calculate factorial of that\n",
    "        n : a Number\n",
    "    \"\"\"\n",
    "    sum = 1\n",
    "    for i in range(n):\n",
    "        sum = sum * (i+1)\n",
    "    return(sum)\n",
    "    \n",
    "number = int(input(\"please enter a number : \"))\n",
    "print(factorial(number))"
   ]
  },
  {
   "cell_type": "code",
   "execution_count": 15,
   "id": "530e5a02",
   "metadata": {},
   "outputs": [
    {
     "data": {
      "text/plain": [
       "' This function take a number and calculate factorial of that\\n        n : a Number\\n    '"
      ]
     },
     "execution_count": 15,
     "metadata": {},
     "output_type": "execute_result"
    }
   ],
   "source": [
    "factorial.__doc__"
   ]
  },
  {
   "cell_type": "raw",
   "id": "d0bf1124",
   "metadata": {},
   "source": [
    "Write a function that takes two arguments: activation_function name and value that returns the output of specific activation_function. Implement for sigmoid, binary step function, relu, leaky rely, tanh."
   ]
  },
  {
   "cell_type": "code",
   "execution_count": 16,
   "id": "546253b3",
   "metadata": {},
   "outputs": [
    {
     "name": "stdout",
     "output_type": "stream",
     "text": [
      "please enter a name of Activation function : relu\n",
      "please enter a value for this Activation function : -5\n",
      "0\n"
     ]
    }
   ],
   "source": [
    "import math\n",
    "\n",
    "def activation(name, value):\n",
    "    \"\"\" This function take a string as activation function name and a value and returns the output of specific activation function\n",
    "        name : activation function name\n",
    "        value : a number\n",
    "    \"\"\"\n",
    "    if name == 'sigmoid':\n",
    "        result = 1 / (1 + math.exp(-value))\n",
    "    elif name == 'binary step':\n",
    "        if value >= 0:\n",
    "            result = 1\n",
    "        else:\n",
    "            result = 0\n",
    "    elif name == 'relu':\n",
    "        result = max(0, value)\n",
    "    elif name == 'leaky relu':\n",
    "        result = max(0.01 * value, value)\n",
    "    elif name == 'tanh':\n",
    "        result = math.tanh(value)\n",
    "    else:\n",
    "        raise ValueError(\"Unknown activation function: \", name)\n",
    "    return(result)\n",
    "\n",
    "act = input(\"please enter a name of Activation function : \")\n",
    "val = int(input(\"please enter a value for this Activation function : \"))\n",
    "print(activation(act, val))"
   ]
  },
  {
   "cell_type": "code",
   "execution_count": 17,
   "id": "b7dd7a6c",
   "metadata": {},
   "outputs": [
    {
     "data": {
      "text/plain": [
       "' This function take a string as activation function name and a value and returns the output of specific activation function\\n        name : activation function name\\n        value : a number\\n    '"
      ]
     },
     "execution_count": 17,
     "metadata": {},
     "output_type": "execute_result"
    }
   ],
   "source": [
    "activation.__doc__"
   ]
  },
  {
   "cell_type": "raw",
   "id": "00061955",
   "metadata": {},
   "source": [
    "Write a function that returns permutation. Permutation is the number of ways to arrange 'r' objects form a set of 'n' objects where order matters and the formula is\n",
    "\n",
    "P(n, r) = n! / (n - r)!. Use the factorial function from above exercise."
   ]
  },
  {
   "cell_type": "code",
   "execution_count": 18,
   "id": "b0e53544",
   "metadata": {},
   "outputs": [
    {
     "name": "stdout",
     "output_type": "stream",
     "text": [
      "please enter a value for n : 7\n",
      "please enter a value for r (r should be less than n): 3\n",
      "permutation is :  210.0\n"
     ]
    }
   ],
   "source": [
    "n = int(input(\"please enter a value for n : \"))\n",
    "r = int(input(\"please enter a value for r (r should be less than n): \"))\n",
    "print(\"permutation is : \",factorial(n)/factorial(n-r))"
   ]
  },
  {
   "cell_type": "raw",
   "id": "0d3f0fc3",
   "metadata": {},
   "source": [
    "Write a function that takes three arguments. First arguments should determine whether to return permutation or combination or both. Make the first argument optional and default is both if nothing is passed while calling the function.The second argument is n, which is optional and default is 10. Finally the third argument is r, which is also optional and default is 5."
   ]
  },
  {
   "cell_type": "code",
   "execution_count": 19,
   "id": "e20cc951",
   "metadata": {},
   "outputs": [
    {
     "name": "stdout",
     "output_type": "stream",
     "text": [
      "please enter 'p' for permutation or 'c' combination or 'b' for both : b\n",
      "please enter a value for n : 8\n",
      "please enter a value for r (r should be less than n): 3\n",
      "permutation is :  336.0\n",
      "combination is :  56.0\n"
     ]
    }
   ],
   "source": [
    "# P(n, r) = n! / (n - r)!\n",
    "# C(n, r) = n! / ((n - r)! * r!)\n",
    "def func(ch='b', n=10, r=5):\n",
    "    \n",
    "    if ch == 'p':\n",
    "        result_p = factorial(n)/factorial(n-r)\n",
    "        print(\"permutation is : \",result_p)\n",
    "    elif ch == 'c':\n",
    "        result_c = factorial(n)/(factorial(n-r) * factorial(r))\n",
    "        print(\"combination is : \",result_c)    \n",
    "    elif ch == 'b':\n",
    "        result_p = factorial(n)/factorial(n-r)\n",
    "        result_c = factorial(n)/(factorial(n-r) * factorial(r))\n",
    "        print(\"permutation is : \",result_p)\n",
    "        print(\"combination is : \",result_c)\n",
    "\n",
    "char = input(\"please enter 'p' for permutation or 'c' combination or 'b' for both : \")\n",
    "n = int(input(\"please enter a value for n : \") or 10)\n",
    "r = int(input(\"please enter a value for r (r should be less than n): \") or 5)\n",
    "\n",
    "func(char, n, r)"
   ]
  },
  {
   "cell_type": "raw",
   "id": "00e07c83",
   "metadata": {},
   "source": [
    "Implement a function that takes any number of positional and keyword arguments."
   ]
  },
  {
   "cell_type": "code",
   "execution_count": 20,
   "id": "2d43a456",
   "metadata": {},
   "outputs": [
    {
     "name": "stdout",
     "output_type": "stream",
     "text": [
      "Positional arguments are : \n",
      "A\n",
      "23\n",
      "R\n",
      "Keyword arguments are : \n",
      "name  =  jack\n",
      "age  =  25\n",
      "None\n"
     ]
    }
   ],
   "source": [
    "def argument_Func(*args, **kwargs):\n",
    "    print(\"Positional arguments are : \")\n",
    "    for a in args:\n",
    "        print(a)\n",
    "        \n",
    "    print(\"Keyword arguments are : \")\n",
    "    for k,v in kwargs.items():\n",
    "        print(k, \" = \", v)\n",
    "        \n",
    "# string = input(\"please enter some keywords or arguments : \")\n",
    "print(argument_Func('A', 23, 'R', name='jack', age=25))"
   ]
  },
  {
   "cell_type": "raw",
   "id": "d75c50a1",
   "metadata": {},
   "source": [
    "Understand scope of variables: LEGB Rule 1. Local to the function eg. variable defined in the function 2. Enclosing or nonlocal eg. variables defined in enclosing function in nested function 3. Global eg. variables defined within main program or module 4. Built-in eg. Python keywords"
   ]
  },
  {
   "cell_type": "code",
   "execution_count": 21,
   "id": "e52ab80a",
   "metadata": {},
   "outputs": [
    {
     "name": "stdout",
     "output_type": "stream",
     "text": [
      "global variable  20\n",
      "Local variable  15\n",
      "enclosing variable  20\n",
      "Bult_in variable True  True\n"
     ]
    }
   ],
   "source": [
    "glob = 20\n",
    "\n",
    "def my_func():\n",
    "    local = 15\n",
    "    en = 10  # enclosing variable\n",
    "    print(\"global variable \", glob)\n",
    "\n",
    "    def inner_func():\n",
    "        nonlocal en\n",
    "        en = 20  # nonlocal variable\n",
    "        return\n",
    "    \n",
    "    inner_func()\n",
    "    print(\"Local variable \", local)\n",
    "    print(\"enclosing variable \", en)\n",
    "    return\n",
    "\n",
    "my_func()\n",
    "print(\"Bult_in variable True \", True)    "
   ]
  }
 ],
 "metadata": {
  "kernelspec": {
   "display_name": "Python 3 (ipykernel)",
   "language": "python",
   "name": "python3"
  },
  "language_info": {
   "codemirror_mode": {
    "name": "ipython",
    "version": 3
   },
   "file_extension": ".py",
   "mimetype": "text/x-python",
   "name": "python",
   "nbconvert_exporter": "python",
   "pygments_lexer": "ipython3",
   "version": "3.9.13"
  }
 },
 "nbformat": 4,
 "nbformat_minor": 5
}
